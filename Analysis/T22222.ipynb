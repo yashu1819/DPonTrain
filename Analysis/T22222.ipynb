{
 "cells": [
  {
   "cell_type": "code",
   "execution_count": 1,
   "id": "0edee618",
   "metadata": {},
   "outputs": [],
   "source": [
    "import pandas as pd"
   ]
  },
  {
   "cell_type": "code",
   "execution_count": 7,
   "id": "6517a51b",
   "metadata": {},
   "outputs": [
    {
     "data": {
      "text/html": [
       "<div>\n",
       "<style scoped>\n",
       "    .dataframe tbody tr th:only-of-type {\n",
       "        vertical-align: middle;\n",
       "    }\n",
       "\n",
       "    .dataframe tbody tr th {\n",
       "        vertical-align: top;\n",
       "    }\n",
       "\n",
       "    .dataframe thead th {\n",
       "        text-align: right;\n",
       "    }\n",
       "</style>\n",
       "<table border=\"1\" class=\"dataframe\">\n",
       "  <thead>\n",
       "    <tr style=\"text-align: right;\">\n",
       "      <th></th>\n",
       "      <th>'booking_date'</th>\n",
       "      <th>'journey_date'</th>\n",
       "      <th>'trnno'</th>\n",
       "      <th>'brdpt_code'</th>\n",
       "      <th>'resupto_code'</th>\n",
       "      <th>'cls'</th>\n",
       "      <th>'PSGN'</th>\n",
       "    </tr>\n",
       "  </thead>\n",
       "  <tbody>\n",
       "    <tr>\n",
       "      <th>0</th>\n",
       "      <td>2023-04-06</td>\n",
       "      <td>2023-08-01</td>\n",
       "      <td>'22222'</td>\n",
       "      <td>'AGC '</td>\n",
       "      <td>'KYN '</td>\n",
       "      <td>'3A '</td>\n",
       "      <td>6</td>\n",
       "    </tr>\n",
       "    <tr>\n",
       "      <th>1</th>\n",
       "      <td>2023-04-14</td>\n",
       "      <td>2023-08-01</td>\n",
       "      <td>'22222'</td>\n",
       "      <td>'NZM '</td>\n",
       "      <td>'NK  '</td>\n",
       "      <td>'3A '</td>\n",
       "      <td>1</td>\n",
       "    </tr>\n",
       "    <tr>\n",
       "      <th>2</th>\n",
       "      <td>2023-05-02</td>\n",
       "      <td>2023-08-01</td>\n",
       "      <td>'22222'</td>\n",
       "      <td>'NZM '</td>\n",
       "      <td>'CSMT'</td>\n",
       "      <td>'1A '</td>\n",
       "      <td>4</td>\n",
       "    </tr>\n",
       "    <tr>\n",
       "      <th>3</th>\n",
       "      <td>2023-05-03</td>\n",
       "      <td>2023-08-01</td>\n",
       "      <td>'22222'</td>\n",
       "      <td>'NZM '</td>\n",
       "      <td>'NK  '</td>\n",
       "      <td>'2A '</td>\n",
       "      <td>2</td>\n",
       "    </tr>\n",
       "    <tr>\n",
       "      <th>4</th>\n",
       "      <td>2023-05-14</td>\n",
       "      <td>2023-08-01</td>\n",
       "      <td>'22222'</td>\n",
       "      <td>'NZM '</td>\n",
       "      <td>'NK  '</td>\n",
       "      <td>'3A '</td>\n",
       "      <td>1</td>\n",
       "    </tr>\n",
       "  </tbody>\n",
       "</table>\n",
       "</div>"
      ],
      "text/plain": [
       "  'booking_date' 'journey_date'  'trnno' 'brdpt_code' 'resupto_code'  'cls'  \\\n",
       "0     2023-04-06     2023-08-01  '22222'       'AGC '         'KYN '  '3A '   \n",
       "1     2023-04-14     2023-08-01  '22222'       'NZM '         'NK  '  '3A '   \n",
       "2     2023-05-02     2023-08-01  '22222'       'NZM '         'CSMT'  '1A '   \n",
       "3     2023-05-03     2023-08-01  '22222'       'NZM '         'NK  '  '2A '   \n",
       "4     2023-05-14     2023-08-01  '22222'       'NZM '         'NK  '  '3A '   \n",
       "\n",
       "   'PSGN'  \n",
       "0       6  \n",
       "1       1  \n",
       "2       4  \n",
       "3       2  \n",
       "4       1  "
      ]
     },
     "execution_count": 7,
     "metadata": {},
     "output_type": "execute_result"
    }
   ],
   "source": [
    "df= pd.read_csv(\"../CRIS_data/train_demand/demand_22222.csv\")\n",
    "df.head()"
   ]
  },
  {
   "cell_type": "code",
   "execution_count": 9,
   "id": "4f14b582",
   "metadata": {},
   "outputs": [
    {
     "data": {
      "text/plain": [
       "(384534, 7)"
      ]
     },
     "execution_count": 9,
     "metadata": {},
     "output_type": "execute_result"
    }
   ],
   "source": [
    "df.shape"
   ]
  },
  {
   "cell_type": "code",
   "execution_count": 14,
   "id": "3c1ecb34",
   "metadata": {},
   "outputs": [
    {
     "data": {
      "text/plain": [
       "array([\"'AGC '\", \"'NZM '\", \"'VGLJ'\", \"'GWL '\", \"'JL  '\", \"'BPL '\",\n",
       "       \"'NK  '\", \"'KYN '\", \"'BSL '\"], dtype=object)"
      ]
     },
     "execution_count": 14,
     "metadata": {},
     "output_type": "execute_result"
    }
   ],
   "source": [
    "(df[\"'brdpt_code'\"].unique())"
   ]
  },
  {
   "cell_type": "code",
   "execution_count": 15,
   "id": "425f8c30",
   "metadata": {},
   "outputs": [
    {
     "data": {
      "text/plain": [
       "array([\"'KYN '\", \"'NK  '\", \"'CSMT'\", \"'VGLJ'\", \"'JL  '\", \"'BPL '\",\n",
       "       \"'GWL '\", \"'AGC '\", \"'BSL '\"], dtype=object)"
      ]
     },
     "execution_count": 15,
     "metadata": {},
     "output_type": "execute_result"
    }
   ],
   "source": [
    "df[\"'resupto_code'\"].unique()"
   ]
  },
  {
   "cell_type": "code",
   "execution_count": 18,
   "id": "f3a389c5",
   "metadata": {},
   "outputs": [
    {
     "data": {
      "text/plain": [
       "'journey_date'\n",
       "2024-11-03    763\n",
       "2024-08-19    739\n",
       "2024-12-14    733\n",
       "2025-01-04    721\n",
       "2025-03-16    714\n",
       "             ... \n",
       "2023-10-10    354\n",
       "2023-10-18    351\n",
       "2023-09-21    347\n",
       "2024-10-31    256\n",
       "2023-11-12    251\n",
       "Name: count, Length: 731, dtype: int64"
      ]
     },
     "execution_count": 18,
     "metadata": {},
     "output_type": "execute_result"
    }
   ],
   "source": [
    "df[\"'journey_date'\"].value_counts()"
   ]
  },
  {
   "cell_type": "code",
   "execution_count": 20,
   "id": "6b969a93",
   "metadata": {},
   "outputs": [
    {
     "data": {
      "text/plain": [
       "count    384534.000000\n",
       "mean          3.087672\n",
       "std           4.497931\n",
       "min           1.000000\n",
       "25%           1.000000\n",
       "50%           2.000000\n",
       "75%           3.000000\n",
       "max         209.000000\n",
       "Name: 'PSGN', dtype: float64"
      ]
     },
     "execution_count": 20,
     "metadata": {},
     "output_type": "execute_result"
    }
   ],
   "source": [
    "df[\"'PSGN'\"].describe()"
   ]
  },
  {
   "cell_type": "code",
   "execution_count": null,
   "id": "691fe08f",
   "metadata": {},
   "outputs": [],
   "source": []
  }
 ],
 "metadata": {
  "kernelspec": {
   "display_name": "Python 3",
   "language": "python",
   "name": "python3"
  },
  "language_info": {
   "codemirror_mode": {
    "name": "ipython",
    "version": 3
   },
   "file_extension": ".py",
   "mimetype": "text/x-python",
   "name": "python",
   "nbconvert_exporter": "python",
   "pygments_lexer": "ipython3",
   "version": "3.11.9"
  }
 },
 "nbformat": 4,
 "nbformat_minor": 5
}
