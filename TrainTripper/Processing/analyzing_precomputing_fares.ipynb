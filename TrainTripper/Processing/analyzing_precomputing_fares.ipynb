{
 "cells": [
  {
   "cell_type": "code",
   "execution_count": 1,
   "metadata": {
    "ExecuteTime": {
     "end_time": "2023-11-06T13:13:31.336323Z",
     "start_time": "2023-11-06T13:13:30.368021200Z"
    },
    "collapsed": true,
    "pycharm": {
     "name": "#%%\n"
    }
   },
   "outputs": [],
   "source": [
    "import json\n",
    "import pandas as pd\n",
    "import matplotlib.pyplot as plt"
   ]
  },
  {
   "cell_type": "code",
   "execution_count": 2,
   "metadata": {},
   "outputs": [],
   "source": [
    "df1=pd.read_csv('../Data/irctc/dynamic_coverage.csv')"
   ]
  },
  {
   "cell_type": "code",
   "execution_count": 3,
   "metadata": {},
   "outputs": [
    {
     "data": {
      "text/html": [
       "<div>\n",
       "<style scoped>\n",
       "    .dataframe tbody tr th:only-of-type {\n",
       "        vertical-align: middle;\n",
       "    }\n",
       "\n",
       "    .dataframe tbody tr th {\n",
       "        vertical-align: top;\n",
       "    }\n",
       "\n",
       "    .dataframe thead th {\n",
       "        text-align: right;\n",
       "    }\n",
       "</style>\n",
       "<table border=\"1\" class=\"dataframe\">\n",
       "  <thead>\n",
       "    <tr style=\"text-align: right;\">\n",
       "      <th></th>\n",
       "      <th>baseFare</th>\n",
       "      <th>reservationCharge</th>\n",
       "      <th>superfastCharge</th>\n",
       "      <th>fuelAmount</th>\n",
       "      <th>totalConcession</th>\n",
       "      <th>tatkalFare</th>\n",
       "      <th>serviceTax</th>\n",
       "      <th>otherCharge</th>\n",
       "      <th>cateringCharge</th>\n",
       "      <th>dynamicFare</th>\n",
       "      <th>totalFare</th>\n",
       "      <th>availability</th>\n",
       "      <th>trainNumber</th>\n",
       "      <th>fromStnCode</th>\n",
       "      <th>toStnCode</th>\n",
       "      <th>classCode</th>\n",
       "      <th>timeStamp</th>\n",
       "    </tr>\n",
       "  </thead>\n",
       "  <tbody>\n",
       "    <tr>\n",
       "      <th>0</th>\n",
       "      <td>2350</td>\n",
       "      <td>50</td>\n",
       "      <td>0</td>\n",
       "      <td>0.0</td>\n",
       "      <td>0</td>\n",
       "      <td>0</td>\n",
       "      <td>120.0</td>\n",
       "      <td>0</td>\n",
       "      <td>0</td>\n",
       "      <td>0</td>\n",
       "      <td>2520</td>\n",
       "      <td>[{'date': '5-11-2023', 'status': 'PQWL17/WL10'...</td>\n",
       "      <td>1027</td>\n",
       "      <td>NK</td>\n",
       "      <td>CKTD</td>\n",
       "      <td>2A</td>\n",
       "      <td>2023-10-31 19:25:08.643266</td>\n",
       "    </tr>\n",
       "    <tr>\n",
       "      <th>1</th>\n",
       "      <td>2350</td>\n",
       "      <td>50</td>\n",
       "      <td>0</td>\n",
       "      <td>0.0</td>\n",
       "      <td>0</td>\n",
       "      <td>0</td>\n",
       "      <td>120.0</td>\n",
       "      <td>0</td>\n",
       "      <td>0</td>\n",
       "      <td>0</td>\n",
       "      <td>2520</td>\n",
       "      <td>[{'date': '16-11-2023', 'status': 'PQWL12/WL9'...</td>\n",
       "      <td>1027</td>\n",
       "      <td>NK</td>\n",
       "      <td>CKTD</td>\n",
       "      <td>2A</td>\n",
       "      <td>2023-10-31 19:25:08.643266</td>\n",
       "    </tr>\n",
       "    <tr>\n",
       "      <th>2</th>\n",
       "      <td>2350</td>\n",
       "      <td>50</td>\n",
       "      <td>0</td>\n",
       "      <td>0.0</td>\n",
       "      <td>0</td>\n",
       "      <td>0</td>\n",
       "      <td>120.0</td>\n",
       "      <td>0</td>\n",
       "      <td>0</td>\n",
       "      <td>0</td>\n",
       "      <td>2520</td>\n",
       "      <td>[{'date': '26-11-2023', 'status': 'PQWL5/WL2'}...</td>\n",
       "      <td>1027</td>\n",
       "      <td>NK</td>\n",
       "      <td>CKTD</td>\n",
       "      <td>2A</td>\n",
       "      <td>2023-10-31 19:25:08.643266</td>\n",
       "    </tr>\n",
       "    <tr>\n",
       "      <th>3</th>\n",
       "      <td>2350</td>\n",
       "      <td>50</td>\n",
       "      <td>0</td>\n",
       "      <td>0.0</td>\n",
       "      <td>0</td>\n",
       "      <td>0</td>\n",
       "      <td>120.0</td>\n",
       "      <td>0</td>\n",
       "      <td>0</td>\n",
       "      <td>0</td>\n",
       "      <td>2520</td>\n",
       "      <td>[{'date': '7-12-2023', 'status': 'PQWL1/WL1'},...</td>\n",
       "      <td>1027</td>\n",
       "      <td>NK</td>\n",
       "      <td>CKTD</td>\n",
       "      <td>2A</td>\n",
       "      <td>2023-10-31 19:25:08.643266</td>\n",
       "    </tr>\n",
       "    <tr>\n",
       "      <th>4</th>\n",
       "      <td>2350</td>\n",
       "      <td>50</td>\n",
       "      <td>0</td>\n",
       "      <td>0.0</td>\n",
       "      <td>0</td>\n",
       "      <td>0</td>\n",
       "      <td>120.0</td>\n",
       "      <td>0</td>\n",
       "      <td>0</td>\n",
       "      <td>0</td>\n",
       "      <td>2520</td>\n",
       "      <td>[{'date': '17-12-2023', 'status': 'AVAILABLE-0...</td>\n",
       "      <td>1027</td>\n",
       "      <td>NK</td>\n",
       "      <td>CKTD</td>\n",
       "      <td>2A</td>\n",
       "      <td>2023-10-31 19:25:08.643266</td>\n",
       "    </tr>\n",
       "  </tbody>\n",
       "</table>\n",
       "</div>"
      ],
      "text/plain": [
       "   baseFare  reservationCharge  superfastCharge  fuelAmount  totalConcession  \\\n",
       "0      2350                 50                0         0.0                0   \n",
       "1      2350                 50                0         0.0                0   \n",
       "2      2350                 50                0         0.0                0   \n",
       "3      2350                 50                0         0.0                0   \n",
       "4      2350                 50                0         0.0                0   \n",
       "\n",
       "   tatkalFare  serviceTax  otherCharge  cateringCharge  dynamicFare  \\\n",
       "0           0       120.0            0               0            0   \n",
       "1           0       120.0            0               0            0   \n",
       "2           0       120.0            0               0            0   \n",
       "3           0       120.0            0               0            0   \n",
       "4           0       120.0            0               0            0   \n",
       "\n",
       "   totalFare                                       availability  trainNumber  \\\n",
       "0       2520  [{'date': '5-11-2023', 'status': 'PQWL17/WL10'...         1027   \n",
       "1       2520  [{'date': '16-11-2023', 'status': 'PQWL12/WL9'...         1027   \n",
       "2       2520  [{'date': '26-11-2023', 'status': 'PQWL5/WL2'}...         1027   \n",
       "3       2520  [{'date': '7-12-2023', 'status': 'PQWL1/WL1'},...         1027   \n",
       "4       2520  [{'date': '17-12-2023', 'status': 'AVAILABLE-0...         1027   \n",
       "\n",
       "  fromStnCode toStnCode classCode                   timeStamp  \n",
       "0          NK      CKTD        2A  2023-10-31 19:25:08.643266  \n",
       "1          NK      CKTD        2A  2023-10-31 19:25:08.643266  \n",
       "2          NK      CKTD        2A  2023-10-31 19:25:08.643266  \n",
       "3          NK      CKTD        2A  2023-10-31 19:25:08.643266  \n",
       "4          NK      CKTD        2A  2023-10-31 19:25:08.643266  "
      ]
     },
     "execution_count": 3,
     "metadata": {},
     "output_type": "execute_result"
    }
   ],
   "source": [
    "df1.head()"
   ]
  },
  {
   "cell_type": "code",
   "execution_count": 4,
   "metadata": {},
   "outputs": [
    {
     "data": {
      "text/plain": [
       "0        [{'date': '5-11-2023', 'status': 'PQWL17/WL10'...\n",
       "1        [{'date': '16-11-2023', 'status': 'PQWL12/WL9'...\n",
       "2        [{'date': '26-11-2023', 'status': 'PQWL5/WL2'}...\n",
       "3        [{'date': '7-12-2023', 'status': 'PQWL1/WL1'},...\n",
       "4        [{'date': '17-12-2023', 'status': 'AVAILABLE-0...\n",
       "                               ...                        \n",
       "30583    [{'date': '26-11-2023', 'status': 'RLWL9/WL9'}...\n",
       "30584    [{'date': '7-12-2023', 'status': 'RLWL3/WL3'},...\n",
       "30585    [{'date': '17-12-2023', 'status': 'AVAILABLE-0...\n",
       "30586    [{'date': '28-12-2023', 'status': 'AVAILABLE-0...\n",
       "30587    [{'date': '7-1-2024', 'status': 'AVAILABLE-000...\n",
       "Name: availability, Length: 30588, dtype: object"
      ]
     },
     "execution_count": 4,
     "metadata": {},
     "output_type": "execute_result"
    }
   ],
   "source": [
    "df1['availability']"
   ]
  },
  {
   "cell_type": "code",
   "execution_count": 6,
   "metadata": {},
   "outputs": [
    {
     "name": "stdout",
     "output_type": "stream",
     "text": [
      "<class 'pandas.core.frame.DataFrame'>\n",
      "RangeIndex: 30588 entries, 0 to 30587\n",
      "Data columns (total 17 columns):\n",
      " #   Column             Non-Null Count  Dtype  \n",
      "---  ------             --------------  -----  \n",
      " 0   baseFare           30588 non-null  int64  \n",
      " 1   reservationCharge  30588 non-null  int64  \n",
      " 2   superfastCharge    30588 non-null  int64  \n",
      " 3   fuelAmount         30588 non-null  float64\n",
      " 4   totalConcession    30588 non-null  int64  \n",
      " 5   tatkalFare         30588 non-null  int64  \n",
      " 6   serviceTax         30588 non-null  float64\n",
      " 7   otherCharge        30588 non-null  int64  \n",
      " 8   cateringCharge     30588 non-null  int64  \n",
      " 9   dynamicFare        30588 non-null  int64  \n",
      " 10  totalFare          30588 non-null  int64  \n",
      " 11  availability       30588 non-null  object \n",
      " 12  trainNumber        30588 non-null  int64  \n",
      " 13  fromStnCode        30588 non-null  object \n",
      " 14  toStnCode          30588 non-null  object \n",
      " 15  classCode          30588 non-null  object \n",
      " 16  timeStamp          30588 non-null  object \n",
      "dtypes: float64(2), int64(10), object(5)\n",
      "memory usage: 4.0+ MB\n"
     ]
    }
   ],
   "source": [
    "df1.info()"
   ]
  },
  {
   "cell_type": "code",
   "execution_count": 12,
   "metadata": {},
   "outputs": [],
   "source": [
    "df2=pd.read_csv('../Data/irctc/static_coverage.csv')"
   ]
  },
  {
   "cell_type": "code",
   "execution_count": 13,
   "metadata": {},
   "outputs": [
    {
     "data": {
      "text/html": [
       "<div>\n",
       "<style scoped>\n",
       "    .dataframe tbody tr th:only-of-type {\n",
       "        vertical-align: middle;\n",
       "    }\n",
       "\n",
       "    .dataframe tbody tr th {\n",
       "        vertical-align: top;\n",
       "    }\n",
       "\n",
       "    .dataframe thead th {\n",
       "        text-align: right;\n",
       "    }\n",
       "</style>\n",
       "<table border=\"1\" class=\"dataframe\">\n",
       "  <thead>\n",
       "    <tr style=\"text-align: right;\">\n",
       "      <th></th>\n",
       "      <th>baseFare</th>\n",
       "      <th>reservationCharge</th>\n",
       "      <th>superfastCharge</th>\n",
       "      <th>fuelAmount</th>\n",
       "      <th>totalConcession</th>\n",
       "      <th>tatkalFare</th>\n",
       "      <th>serviceTax</th>\n",
       "      <th>otherCharge</th>\n",
       "      <th>cateringCharge</th>\n",
       "      <th>dynamicFare</th>\n",
       "      <th>totalFare</th>\n",
       "      <th>availability</th>\n",
       "      <th>trainNumber</th>\n",
       "      <th>timeStamp</th>\n",
       "      <th>fromStnCode</th>\n",
       "      <th>toStnCode</th>\n",
       "      <th>classCode</th>\n",
       "    </tr>\n",
       "  </thead>\n",
       "  <tbody>\n",
       "    <tr>\n",
       "      <th>0</th>\n",
       "      <td>1059</td>\n",
       "      <td>60</td>\n",
       "      <td>0</td>\n",
       "      <td>0.0</td>\n",
       "      <td>0</td>\n",
       "      <td>0</td>\n",
       "      <td>56.0</td>\n",
       "      <td>0</td>\n",
       "      <td>0</td>\n",
       "      <td>0</td>\n",
       "      <td>1175</td>\n",
       "      <td>[{'date': '2-12-2023', 'status': 'AVAILABLE-00...</td>\n",
       "      <td>11464</td>\n",
       "      <td>2023-10-03 22:13:07.781307</td>\n",
       "      <td>JBP</td>\n",
       "      <td>SRID</td>\n",
       "      <td>1A</td>\n",
       "    </tr>\n",
       "    <tr>\n",
       "      <th>1</th>\n",
       "      <td>626</td>\n",
       "      <td>50</td>\n",
       "      <td>0</td>\n",
       "      <td>0.0</td>\n",
       "      <td>0</td>\n",
       "      <td>0</td>\n",
       "      <td>34.0</td>\n",
       "      <td>0</td>\n",
       "      <td>0</td>\n",
       "      <td>0</td>\n",
       "      <td>710</td>\n",
       "      <td>[{'date': '2-12-2023', 'status': 'AVAILABLE-00...</td>\n",
       "      <td>11464</td>\n",
       "      <td>2023-10-03 22:13:07.781307</td>\n",
       "      <td>JBP</td>\n",
       "      <td>SRID</td>\n",
       "      <td>2A</td>\n",
       "    </tr>\n",
       "    <tr>\n",
       "      <th>2</th>\n",
       "      <td>441</td>\n",
       "      <td>40</td>\n",
       "      <td>0</td>\n",
       "      <td>0.0</td>\n",
       "      <td>0</td>\n",
       "      <td>0</td>\n",
       "      <td>24.0</td>\n",
       "      <td>0</td>\n",
       "      <td>0</td>\n",
       "      <td>0</td>\n",
       "      <td>505</td>\n",
       "      <td>[{'date': '2-12-2023', 'status': 'AVAILABLE-01...</td>\n",
       "      <td>11464</td>\n",
       "      <td>2023-10-03 22:13:07.781307</td>\n",
       "      <td>JBP</td>\n",
       "      <td>SRID</td>\n",
       "      <td>3A</td>\n",
       "    </tr>\n",
       "    <tr>\n",
       "      <th>3</th>\n",
       "      <td>125</td>\n",
       "      <td>20</td>\n",
       "      <td>0</td>\n",
       "      <td>0.0</td>\n",
       "      <td>0</td>\n",
       "      <td>0</td>\n",
       "      <td>0.0</td>\n",
       "      <td>0</td>\n",
       "      <td>0</td>\n",
       "      <td>0</td>\n",
       "      <td>145</td>\n",
       "      <td>[{'date': '2-12-2023', 'status': 'AVAILABLE-00...</td>\n",
       "      <td>11464</td>\n",
       "      <td>2023-10-03 22:13:07.781307</td>\n",
       "      <td>JBP</td>\n",
       "      <td>SRID</td>\n",
       "      <td>SL</td>\n",
       "    </tr>\n",
       "    <tr>\n",
       "      <th>4</th>\n",
       "      <td>1059</td>\n",
       "      <td>60</td>\n",
       "      <td>0</td>\n",
       "      <td>0.0</td>\n",
       "      <td>0</td>\n",
       "      <td>0</td>\n",
       "      <td>56.0</td>\n",
       "      <td>0</td>\n",
       "      <td>0</td>\n",
       "      <td>0</td>\n",
       "      <td>1175</td>\n",
       "      <td>[{'date': '2-12-2023', 'status': 'AVAILABLE-00...</td>\n",
       "      <td>11464</td>\n",
       "      <td>2023-10-03 22:13:07.781307</td>\n",
       "      <td>JBP</td>\n",
       "      <td>KKB</td>\n",
       "      <td>1A</td>\n",
       "    </tr>\n",
       "  </tbody>\n",
       "</table>\n",
       "</div>"
      ],
      "text/plain": [
       "   baseFare  reservationCharge  superfastCharge  fuelAmount  totalConcession  \\\n",
       "0      1059                 60                0         0.0                0   \n",
       "1       626                 50                0         0.0                0   \n",
       "2       441                 40                0         0.0                0   \n",
       "3       125                 20                0         0.0                0   \n",
       "4      1059                 60                0         0.0                0   \n",
       "\n",
       "   tatkalFare  serviceTax  otherCharge  cateringCharge  dynamicFare  \\\n",
       "0           0        56.0            0               0            0   \n",
       "1           0        34.0            0               0            0   \n",
       "2           0        24.0            0               0            0   \n",
       "3           0         0.0            0               0            0   \n",
       "4           0        56.0            0               0            0   \n",
       "\n",
       "   totalFare                                       availability  trainNumber  \\\n",
       "0       1175  [{'date': '2-12-2023', 'status': 'AVAILABLE-00...        11464   \n",
       "1        710  [{'date': '2-12-2023', 'status': 'AVAILABLE-00...        11464   \n",
       "2        505  [{'date': '2-12-2023', 'status': 'AVAILABLE-01...        11464   \n",
       "3        145  [{'date': '2-12-2023', 'status': 'AVAILABLE-00...        11464   \n",
       "4       1175  [{'date': '2-12-2023', 'status': 'AVAILABLE-00...        11464   \n",
       "\n",
       "                    timeStamp fromStnCode toStnCode classCode  \n",
       "0  2023-10-03 22:13:07.781307         JBP      SRID        1A  \n",
       "1  2023-10-03 22:13:07.781307         JBP      SRID        2A  \n",
       "2  2023-10-03 22:13:07.781307         JBP      SRID        3A  \n",
       "3  2023-10-03 22:13:07.781307         JBP      SRID        SL  \n",
       "4  2023-10-03 22:13:07.781307         JBP       KKB        1A  "
      ]
     },
     "execution_count": 13,
     "metadata": {},
     "output_type": "execute_result"
    }
   ],
   "source": [
    "df2.head()"
   ]
  },
  {
   "cell_type": "code",
   "execution_count": 14,
   "metadata": {},
   "outputs": [
    {
     "name": "stdout",
     "output_type": "stream",
     "text": [
      "<class 'pandas.core.frame.DataFrame'>\n",
      "RangeIndex: 296055 entries, 0 to 296054\n",
      "Data columns (total 17 columns):\n",
      " #   Column             Non-Null Count   Dtype  \n",
      "---  ------             --------------   -----  \n",
      " 0   baseFare           296055 non-null  int64  \n",
      " 1   reservationCharge  296055 non-null  int64  \n",
      " 2   superfastCharge    296055 non-null  int64  \n",
      " 3   fuelAmount         296055 non-null  float64\n",
      " 4   totalConcession    296055 non-null  int64  \n",
      " 5   tatkalFare         296055 non-null  int64  \n",
      " 6   serviceTax         296055 non-null  float64\n",
      " 7   otherCharge        296055 non-null  int64  \n",
      " 8   cateringCharge     296055 non-null  int64  \n",
      " 9   dynamicFare        296055 non-null  int64  \n",
      " 10  totalFare          296055 non-null  int64  \n",
      " 11  availability       296055 non-null  object \n",
      " 12  trainNumber        296055 non-null  int64  \n",
      " 13  timeStamp          296055 non-null  object \n",
      " 14  fromStnCode        296055 non-null  object \n",
      " 15  toStnCode          296055 non-null  object \n",
      " 16  classCode          296055 non-null  object \n",
      "dtypes: float64(2), int64(10), object(5)\n",
      "memory usage: 38.4+ MB\n"
     ]
    }
   ],
   "source": [
    "df2.info()"
   ]
  },
  {
   "cell_type": "code",
   "execution_count": 21,
   "metadata": {},
   "outputs": [],
   "source": [
    "count2 = (df2['dynamicFare'] > 0).sum()"
   ]
  },
  {
   "cell_type": "code",
   "execution_count": 22,
   "metadata": {},
   "outputs": [
    {
     "data": {
      "text/plain": [
       "761"
      ]
     },
     "execution_count": 22,
     "metadata": {},
     "output_type": "execute_result"
    }
   ],
   "source": [
    "count2"
   ]
  },
  {
   "cell_type": "code",
   "execution_count": 23,
   "metadata": {},
   "outputs": [
    {
     "data": {
      "text/plain": [
       "2780"
      ]
     },
     "execution_count": 23,
     "metadata": {},
     "output_type": "execute_result"
    }
   ],
   "source": [
    "count1 = (df1['dynamicFare'] > 0).sum()\n",
    "count1"
   ]
  },
  {
   "cell_type": "code",
   "execution_count": 16,
   "metadata": {
    "collapsed": false,
    "pycharm": {
     "name": "#%%\n"
    }
   },
   "outputs": [],
   "source": [
    "df = pd.concat([df1, df2])"
   ]
  },
  {
   "cell_type": "code",
   "execution_count": 17,
   "metadata": {},
   "outputs": [
    {
     "name": "stdout",
     "output_type": "stream",
     "text": [
      "<class 'pandas.core.frame.DataFrame'>\n",
      "Index: 326643 entries, 0 to 296054\n",
      "Data columns (total 17 columns):\n",
      " #   Column             Non-Null Count   Dtype  \n",
      "---  ------             --------------   -----  \n",
      " 0   baseFare           326643 non-null  int64  \n",
      " 1   reservationCharge  326643 non-null  int64  \n",
      " 2   superfastCharge    326643 non-null  int64  \n",
      " 3   fuelAmount         326643 non-null  float64\n",
      " 4   totalConcession    326643 non-null  int64  \n",
      " 5   tatkalFare         326643 non-null  int64  \n",
      " 6   serviceTax         326643 non-null  float64\n",
      " 7   otherCharge        326643 non-null  int64  \n",
      " 8   cateringCharge     326643 non-null  int64  \n",
      " 9   dynamicFare        326643 non-null  int64  \n",
      " 10  totalFare          326643 non-null  int64  \n",
      " 11  availability       326643 non-null  object \n",
      " 12  trainNumber        326643 non-null  int64  \n",
      " 13  fromStnCode        326643 non-null  object \n",
      " 14  toStnCode          326643 non-null  object \n",
      " 15  classCode          326643 non-null  object \n",
      " 16  timeStamp          326643 non-null  object \n",
      "dtypes: float64(2), int64(10), object(5)\n",
      "memory usage: 44.9+ MB\n"
     ]
    }
   ],
   "source": [
    "df.info()"
   ]
  },
  {
   "cell_type": "code",
   "execution_count": 3,
   "metadata": {
    "ExecuteTime": {
     "end_time": "2023-11-06T13:13:31.870204200Z",
     "start_time": "2023-11-06T13:13:31.854923200Z"
    },
    "collapsed": false,
    "pycharm": {
     "name": "#%%\n"
    }
   },
   "outputs": [
    {
     "name": "stdout",
     "output_type": "stream",
     "text": [
      "Index(['baseFare', 'reservationCharge', 'superfastCharge', 'fuelAmount',\n",
      "       'totalConcession', 'tatkalFare', 'serviceTax', 'otherCharge',\n",
      "       'cateringCharge', 'dynamicFare', 'totalFare', 'availability',\n",
      "       'trainNumber', 'timeStamp', 'fromStnCode', 'toStnCode', 'classCode'],\n",
      "      dtype='object')\n"
     ]
    }
   ],
   "source": [
    "print(df.columns)"
   ]
  },
  {
   "cell_type": "code",
   "execution_count": 24,
   "metadata": {
    "ExecuteTime": {
     "end_time": "2023-11-06T13:13:33.173568200Z",
     "start_time": "2023-11-06T13:13:33.091302600Z"
    },
    "collapsed": false,
    "pycharm": {
     "name": "#%%\n"
    }
   },
   "outputs": [
    {
     "data": {
      "text/plain": [
       "count    326643.000000\n",
       "mean          0.034172\n",
       "std           0.317601\n",
       "min           0.000000\n",
       "25%           0.000000\n",
       "50%           0.000000\n",
       "75%           0.000000\n",
       "max           4.000000\n",
       "dtype: float64"
      ]
     },
     "execution_count": 24,
     "metadata": {},
     "output_type": "execute_result"
    }
   ],
   "source": [
    "# is total fare a total of all the different fares? Almost yes with a difference of max 4 rupees\n",
    "sum_series = df[['baseFare', 'reservationCharge', 'superfastCharge', 'fuelAmount', 'totalConcession', 'tatkalFare', 'serviceTax', 'otherCharge', 'cateringCharge', 'dynamicFare']].sum(axis=1)\n",
    "diff_series = df.totalFare-sum_series\n",
    "diff_series.describe()"
   ]
  },
  {
   "cell_type": "markdown",
   "metadata": {
    "collapsed": false,
    "pycharm": {
     "name": "#%% md\n"
    }
   },
   "source": [
    "## FuelAmount, totalConcession, tatkalFare"
   ]
  },
  {
   "cell_type": "code",
   "execution_count": 25,
   "metadata": {
    "ExecuteTime": {
     "end_time": "2023-11-06T13:13:34.920240200Z",
     "start_time": "2023-11-06T13:13:34.861232300Z"
    },
    "collapsed": false,
    "pycharm": {
     "name": "#%%\n"
    }
   },
   "outputs": [
    {
     "data": {
      "text/plain": [
       "fuelAmount  totalConcession  tatkalFare\n",
       "0.0         0                0             326643\n",
       "Name: count, dtype: int64"
      ]
     },
     "execution_count": 25,
     "metadata": {},
     "output_type": "execute_result"
    }
   ],
   "source": [
    "df[['fuelAmount', 'totalConcession', 'tatkalFare']].value_counts()"
   ]
  },
  {
   "cell_type": "code",
   "execution_count": 26,
   "metadata": {
    "ExecuteTime": {
     "end_time": "2023-11-06T13:13:36.410750900Z",
     "start_time": "2023-11-06T13:13:36.375164200Z"
    },
    "collapsed": false,
    "pycharm": {
     "name": "#%%\n"
    }
   },
   "outputs": [],
   "source": [
    "df.drop(['fuelAmount', 'totalConcession', 'tatkalFare'], axis=1, inplace=True)"
   ]
  },
  {
   "cell_type": "markdown",
   "metadata": {
    "collapsed": false,
    "pycharm": {
     "name": "#%% md\n"
    }
   },
   "source": [
    "## Other Charge"
   ]
  },
  {
   "cell_type": "code",
   "execution_count": 27,
   "metadata": {
    "ExecuteTime": {
     "end_time": "2023-11-06T13:13:37.771819100Z",
     "start_time": "2023-11-06T13:13:37.742874700Z"
    },
    "collapsed": false,
    "pycharm": {
     "name": "#%%\n"
    }
   },
   "outputs": [
    {
     "data": {
      "text/plain": [
       "otherCharge\n",
       "0              325695\n",
       "15                632\n",
       "25                316\n",
       "Name: count, dtype: int64"
      ]
     },
     "execution_count": 27,
     "metadata": {},
     "output_type": "execute_result"
    }
   ],
   "source": [
    "df[['otherCharge']].value_counts()"
   ]
  },
  {
   "cell_type": "code",
   "execution_count": 28,
   "metadata": {
    "ExecuteTime": {
     "end_time": "2023-11-06T13:13:43.514179400Z",
     "start_time": "2023-11-06T13:13:43.478278100Z"
    },
    "collapsed": false,
    "pycharm": {
     "name": "#%%\n"
    }
   },
   "outputs": [
    {
     "data": {
      "text/html": [
       "<div>\n",
       "<style scoped>\n",
       "    .dataframe tbody tr th:only-of-type {\n",
       "        vertical-align: middle;\n",
       "    }\n",
       "\n",
       "    .dataframe tbody tr th {\n",
       "        vertical-align: top;\n",
       "    }\n",
       "\n",
       "    .dataframe thead th {\n",
       "        text-align: right;\n",
       "    }\n",
       "</style>\n",
       "<table border=\"1\" class=\"dataframe\">\n",
       "  <thead>\n",
       "    <tr style=\"text-align: right;\">\n",
       "      <th></th>\n",
       "      <th></th>\n",
       "      <th>totalFare</th>\n",
       "    </tr>\n",
       "    <tr>\n",
       "      <th>otherCharge</th>\n",
       "      <th>trainNumber</th>\n",
       "      <th></th>\n",
       "    </tr>\n",
       "  </thead>\n",
       "  <tbody>\n",
       "    <tr>\n",
       "      <th rowspan=\"2\" valign=\"top\">15</th>\n",
       "      <th>1665</th>\n",
       "      <td>380</td>\n",
       "    </tr>\n",
       "    <tr>\n",
       "      <th>1666</th>\n",
       "      <td>252</td>\n",
       "    </tr>\n",
       "    <tr>\n",
       "      <th rowspan=\"2\" valign=\"top\">25</th>\n",
       "      <th>1665</th>\n",
       "      <td>190</td>\n",
       "    </tr>\n",
       "    <tr>\n",
       "      <th>1666</th>\n",
       "      <td>126</td>\n",
       "    </tr>\n",
       "  </tbody>\n",
       "</table>\n",
       "</div>"
      ],
      "text/plain": [
       "                         totalFare\n",
       "otherCharge trainNumber           \n",
       "15          1665               380\n",
       "            1666               252\n",
       "25          1665               190\n",
       "            1666               126"
      ]
     },
     "execution_count": 28,
     "metadata": {},
     "output_type": "execute_result"
    }
   ],
   "source": [
    "# 01665 - AGTL FESTIVL SPL\n",
    "# Only festival special trains have other charge which are minimal and irrelevant for our case as not much data for\n",
    "# prediction\n",
    "df[df.otherCharge>0][['otherCharge', 'trainNumber', 'totalFare']].groupby(['otherCharge', 'trainNumber']).count()"
   ]
  },
  {
   "cell_type": "code",
   "execution_count": 29,
   "metadata": {
    "ExecuteTime": {
     "end_time": "2023-11-06T13:13:46.815782900Z",
     "start_time": "2023-11-06T13:13:46.778693400Z"
    },
    "collapsed": false,
    "pycharm": {
     "name": "#%%\n"
    }
   },
   "outputs": [],
   "source": [
    "df.drop(['otherCharge'], axis=1, inplace=True)"
   ]
  },
  {
   "cell_type": "code",
   "execution_count": 30,
   "metadata": {
    "ExecuteTime": {
     "end_time": "2023-11-06T13:13:48.355884800Z",
     "start_time": "2023-11-06T13:13:48.339767Z"
    },
    "collapsed": false,
    "pycharm": {
     "name": "#%%\n"
    }
   },
   "outputs": [
    {
     "name": "stdout",
     "output_type": "stream",
     "text": [
      "Index(['baseFare', 'reservationCharge', 'superfastCharge', 'serviceTax',\n",
      "       'cateringCharge', 'dynamicFare', 'totalFare', 'availability',\n",
      "       'trainNumber', 'fromStnCode', 'toStnCode', 'classCode', 'timeStamp'],\n",
      "      dtype='object')\n"
     ]
    }
   ],
   "source": [
    "print(df.columns)"
   ]
  },
  {
   "cell_type": "markdown",
   "metadata": {
    "collapsed": false,
    "pycharm": {
     "name": "#%% md\n"
    }
   },
   "source": [
    "## Reservation Charge"
   ]
  },
  {
   "cell_type": "code",
   "execution_count": 31,
   "metadata": {
    "ExecuteTime": {
     "end_time": "2023-11-06T13:13:49.986553600Z",
     "start_time": "2023-11-06T13:13:49.947032Z"
    },
    "collapsed": false,
    "pycharm": {
     "name": "#%%\n"
    }
   },
   "outputs": [
    {
     "data": {
      "text/plain": [
       "classCode  reservationCharge\n",
       "1A         20                     388\n",
       "           60                   36763\n",
       "2A         50                   83630\n",
       "           60                     389\n",
       "2S         15                    9398\n",
       "3A         40                   88049\n",
       "           50                     389\n",
       "CC         40                   10136\n",
       "SL         20                   97113\n",
       "           40                     388\n",
       "Name: totalFare, dtype: int64"
      ]
     },
     "execution_count": 31,
     "metadata": {},
     "output_type": "execute_result"
    }
   ],
   "source": [
    "# reservation charge seem to directly depend on class code and very few values (exactly 388 or 389) are different.\n",
    "# assuming they are for same train\n",
    "df.groupby(['classCode', 'reservationCharge'])['totalFare'].count()"
   ]
  },
  {
   "cell_type": "code",
   "execution_count": 32,
   "metadata": {
    "ExecuteTime": {
     "end_time": "2023-11-06T13:13:51.522853Z",
     "start_time": "2023-11-06T13:13:51.508864900Z"
    },
    "collapsed": false,
    "pycharm": {
     "name": "#%%\n"
    }
   },
   "outputs": [
    {
     "data": {
      "text/plain": [
       "array([11464], dtype=int64)"
      ]
     },
     "execution_count": 32,
     "metadata": {},
     "output_type": "execute_result"
    }
   ],
   "source": [
    "# 11464 - JBP SOMNATH EXP\n",
    "# don't know why but only 1 train is overpriced. just drop it. Not good for data\n",
    "df[(df.classCode=='1A') & (df.reservationCharge==20)].trainNumber.unique()"
   ]
  },
  {
   "cell_type": "code",
   "execution_count": 33,
   "metadata": {
    "ExecuteTime": {
     "end_time": "2023-11-06T13:13:55.729296600Z",
     "start_time": "2023-11-06T13:13:55.657832800Z"
    },
    "collapsed": false,
    "pycharm": {
     "name": "#%%\n"
    }
   },
   "outputs": [
    {
     "name": "stdout",
     "output_type": "stream",
     "text": [
      "326643\n",
      "324332\n"
     ]
    }
   ],
   "source": [
    "print(len(df))\n",
    "df = df[df.trainNumber!=11464]\n",
    "print(len(df))"
   ]
  },
  {
   "cell_type": "code",
   "execution_count": 34,
   "metadata": {
    "ExecuteTime": {
     "end_time": "2023-11-06T13:13:57.562905300Z",
     "start_time": "2023-11-06T13:13:57.518249200Z"
    },
    "collapsed": false,
    "pycharm": {
     "name": "#%%\n"
    }
   },
   "outputs": [
    {
     "data": {
      "text/plain": [
       "classCode  reservationCharge\n",
       "1A         60                   36573\n",
       "2A         50                   83441\n",
       "2S         15                    9398\n",
       "3A         40                   87860\n",
       "CC         40                   10136\n",
       "SL         20                   96924\n",
       "Name: totalFare, dtype: int64"
      ]
     },
     "execution_count": 34,
     "metadata": {},
     "output_type": "execute_result"
    }
   ],
   "source": [
    "# Reservation charge can be precomputed as only depending on class codes.\n",
    "df.groupby(['classCode', 'reservationCharge'])['totalFare'].count()"
   ]
  },
  {
   "cell_type": "code",
   "execution_count": 35,
   "metadata": {
    "ExecuteTime": {
     "end_time": "2023-11-06T13:13:59.060603900Z",
     "start_time": "2023-11-06T13:13:59.012571600Z"
    },
    "collapsed": false,
    "pycharm": {
     "name": "#%%\n"
    }
   },
   "outputs": [],
   "source": [
    "df1 = df.groupby(['classCode', 'reservationCharge'])['totalFare'].count()\n",
    "lst = df1.index.to_list()\n",
    "json.dump(lst, open(\"../Data/precomputes/reservation_charge.json\", 'w'))"
   ]
  },
  {
   "cell_type": "code",
   "execution_count": 36,
   "metadata": {
    "ExecuteTime": {
     "end_time": "2023-11-06T13:14:00.802971600Z",
     "start_time": "2023-11-06T13:14:00.787038300Z"
    },
    "collapsed": false,
    "pycharm": {
     "name": "#%%\n"
    }
   },
   "outputs": [],
   "source": [
    "df['total_sub_res'] = df.totalFare-df.reservationCharge"
   ]
  },
  {
   "cell_type": "code",
   "execution_count": 37,
   "metadata": {},
   "outputs": [
    {
     "data": {
      "text/plain": [
       "0         2470\n",
       "1         2470\n",
       "2         2470\n",
       "3         2470\n",
       "4         2470\n",
       "          ... \n",
       "296050    2055\n",
       "296051     785\n",
       "296052    2980\n",
       "296053    2055\n",
       "296054     785\n",
       "Name: total_sub_res, Length: 324332, dtype: int64"
      ]
     },
     "execution_count": 37,
     "metadata": {},
     "output_type": "execute_result"
    }
   ],
   "source": [
    "df['total_sub_res']"
   ]
  },
  {
   "cell_type": "markdown",
   "metadata": {
    "collapsed": false,
    "pycharm": {
     "name": "#%% md\n"
    }
   },
   "source": [
    "## BaseFare"
   ]
  },
  {
   "cell_type": "code",
   "execution_count": 70,
   "metadata": {
    "ExecuteTime": {
     "end_time": "2023-11-06T13:14:02.154856100Z",
     "start_time": "2023-11-06T13:14:02.133629700Z"
    },
    "collapsed": false,
    "pycharm": {
     "name": "#%%\n"
    }
   },
   "outputs": [
    {
     "data": {
      "text/plain": [
       "count    293744.000000\n",
       "mean        898.772489\n",
       "std         794.197728\n",
       "min          30.000000\n",
       "25%         375.000000\n",
       "50%         626.000000\n",
       "75%        1238.000000\n",
       "max        6541.000000\n",
       "Name: baseFare, dtype: float64"
      ]
     },
     "execution_count": 70,
     "metadata": {},
     "output_type": "execute_result"
    }
   ],
   "source": [
    "# how can there be 6541 INR base fare\n",
    "df.baseFare.describe()"
   ]
  },
  {
   "cell_type": "code",
   "execution_count": null,
   "metadata": {},
   "outputs": [
    {
     "data": {
      "text/html": [
       "<div>\n",
       "<style scoped>\n",
       "    .dataframe tbody tr th:only-of-type {\n",
       "        vertical-align: middle;\n",
       "    }\n",
       "\n",
       "    .dataframe tbody tr th {\n",
       "        vertical-align: top;\n",
       "    }\n",
       "\n",
       "    .dataframe thead th {\n",
       "        text-align: right;\n",
       "    }\n",
       "</style>\n",
       "<table border=\"1\" class=\"dataframe\">\n",
       "  <thead>\n",
       "    <tr style=\"text-align: right;\">\n",
       "      <th></th>\n",
       "      <th>baseFare</th>\n",
       "      <th>reservationCharge</th>\n",
       "      <th>superfastCharge</th>\n",
       "      <th>serviceTax</th>\n",
       "      <th>cateringCharge</th>\n",
       "      <th>dynamicFare</th>\n",
       "      <th>totalFare</th>\n",
       "      <th>availability</th>\n",
       "      <th>trainNumber</th>\n",
       "      <th>fromStnCode</th>\n",
       "      <th>toStnCode</th>\n",
       "      <th>classCode</th>\n",
       "      <th>timeStamp</th>\n",
       "      <th>total_sub_res</th>\n",
       "    </tr>\n",
       "  </thead>\n",
       "  <tbody>\n",
       "    <tr>\n",
       "      <th>56156</th>\n",
       "      <td>6541</td>\n",
       "      <td>60</td>\n",
       "      <td>75</td>\n",
       "      <td>334.0</td>\n",
       "      <td>1365</td>\n",
       "      <td>0</td>\n",
       "      <td>8375</td>\n",
       "      <td>[{'date': '7-11-2023', 'status': 'GNWL6/WL1'},...</td>\n",
       "      <td>12283</td>\n",
       "      <td>ERS</td>\n",
       "      <td>NZM</td>\n",
       "      <td>1A</td>\n",
       "      <td>2023-10-30 01:15:53.104962</td>\n",
       "      <td>8315</td>\n",
       "    </tr>\n",
       "    <tr>\n",
       "      <th>56200</th>\n",
       "      <td>6541</td>\n",
       "      <td>60</td>\n",
       "      <td>75</td>\n",
       "      <td>334.0</td>\n",
       "      <td>1225</td>\n",
       "      <td>0</td>\n",
       "      <td>8235</td>\n",
       "      <td>[{'date': '4-11-2023', 'status': 'GNWL1/WL1'},...</td>\n",
       "      <td>12284</td>\n",
       "      <td>NZM</td>\n",
       "      <td>ERS</td>\n",
       "      <td>1A</td>\n",
       "      <td>2023-10-30 01:20:03.747053</td>\n",
       "      <td>8175</td>\n",
       "    </tr>\n",
       "  </tbody>\n",
       "</table>\n",
       "</div>"
      ],
      "text/plain": [
       "       baseFare  reservationCharge  superfastCharge  serviceTax  \\\n",
       "56156      6541                 60               75       334.0   \n",
       "56200      6541                 60               75       334.0   \n",
       "\n",
       "       cateringCharge  dynamicFare  totalFare  \\\n",
       "56156            1365            0       8375   \n",
       "56200            1225            0       8235   \n",
       "\n",
       "                                            availability  trainNumber  \\\n",
       "56156  [{'date': '7-11-2023', 'status': 'GNWL6/WL1'},...        12283   \n",
       "56200  [{'date': '4-11-2023', 'status': 'GNWL1/WL1'},...        12284   \n",
       "\n",
       "      fromStnCode toStnCode classCode                   timeStamp  \\\n",
       "56156         ERS       NZM        1A  2023-10-30 01:15:53.104962   \n",
       "56200         NZM       ERS        1A  2023-10-30 01:20:03.747053   \n",
       "\n",
       "       total_sub_res  \n",
       "56156           8315  \n",
       "56200           8175  "
      ]
     },
     "execution_count": 38,
     "metadata": {},
     "output_type": "execute_result"
    }
   ],
   "source": [
    "# Filtering the row with 6541 INR fare:\n",
    "df[df['baseFare'] == 6541]\n",
    "\n",
    "#This is Duronto\n"
   ]
  },
  {
   "cell_type": "code",
   "execution_count": 39,
   "metadata": {
    "ExecuteTime": {
     "end_time": "2023-11-06T13:14:03.835808600Z",
     "start_time": "2023-11-06T13:14:03.530360800Z"
    },
    "collapsed": false,
    "pycharm": {
     "name": "#%%\n"
    }
   },
   "outputs": [
    {
     "data": {
      "text/plain": [
       "Text(0.5, 1.0, 'Histogram for base fare')"
      ]
     },
     "execution_count": 39,
     "metadata": {},
     "output_type": "execute_result"
    },
    {
     "data": {
      "image/png": "[encoded data removed]",
      "text/plain": [
       "<Figure size 640x480 with 1 Axes>"
      ]
     },
     "metadata": {},
     "output_type": "display_data"
    }
   ],
   "source": [
    "# seems like there are a lot of values and column is independent of class. complex feature\n",
    "plt.hist(df.baseFare, bins=150)\n",
    "plt.title(\"Histogram for base fare\")"
   ]
  },
  {
   "cell_type": "code",
   "execution_count": 40,
   "metadata": {},
   "outputs": [
    {
     "data": {
      "image/png": "[encoded data removed]",
      "text/plain": [
       "<Figure size 640x480 with 1 Axes>"
      ]
     },
     "metadata": {},
     "output_type": "display_data"
    }
   ],
   "source": [
    "import matplotlib.pyplot as plt\n",
    "import numpy as np\n",
    "\n",
    "# Suppose 'df' is your DataFrame and 'baseFare' is the column.\n",
    "\n",
    "# 1. Create the histogram data (counts and bin edges).\n",
    "counts, bin_edges = np.histogram(df['baseFare'], bins=150)\n",
    "\n",
    "# 2. Compute the bin centers for plotting.\n",
    "bin_centers = 0.5 * (bin_edges[:-1] + bin_edges[1:])\n",
    "\n",
    "# 3. Plot a line chart of counts vs. bin centers.\n",
    "plt.plot(bin_centers, counts, marker='o', linestyle='-')\n",
    "plt.title('Line Chart for Base Fare Distribution')\n",
    "plt.xlabel('Base Fare')\n",
    "plt.ylabel('Frequency')\n",
    "plt.show()\n"
   ]
  },
  {
   "cell_type": "code",
   "execution_count": 72,
   "metadata": {
    "ExecuteTime": {
     "end_time": "2023-11-06T13:14:06.463254200Z",
     "start_time": "2023-11-06T13:14:06.443624Z"
    },
    "collapsed": false,
    "pycharm": {
     "name": "#%%\n"
    }
   },
   "outputs": [
    {
     "data": {
      "text/html": [
       "<div>\n",
       "<style scoped>\n",
       "    .dataframe tbody tr th:only-of-type {\n",
       "        vertical-align: middle;\n",
       "    }\n",
       "\n",
       "    .dataframe tbody tr th {\n",
       "        vertical-align: top;\n",
       "    }\n",
       "\n",
       "    .dataframe thead th {\n",
       "        text-align: right;\n",
       "    }\n",
       "</style>\n",
       "<table border=\"1\" class=\"dataframe\">\n",
       "  <thead>\n",
       "    <tr style=\"text-align: right;\">\n",
       "      <th></th>\n",
       "      <th>baseFare</th>\n",
       "      <th>reservationCharge</th>\n",
       "      <th>superfastCharge</th>\n",
       "      <th>serviceTax</th>\n",
       "      <th>cateringCharge</th>\n",
       "      <th>dynamicFare</th>\n",
       "      <th>totalFare</th>\n",
       "      <th>availability</th>\n",
       "      <th>trainNumber</th>\n",
       "      <th>timeStamp</th>\n",
       "      <th>fromStnCode</th>\n",
       "      <th>toStnCode</th>\n",
       "      <th>classCode</th>\n",
       "      <th>total_sub_res</th>\n",
       "    </tr>\n",
       "  </thead>\n",
       "  <tbody>\n",
       "    <tr>\n",
       "      <th>56156</th>\n",
       "      <td>6541</td>\n",
       "      <td>60</td>\n",
       "      <td>75</td>\n",
       "      <td>334.0</td>\n",
       "      <td>1365</td>\n",
       "      <td>0</td>\n",
       "      <td>8375</td>\n",
       "      <td>[{'date': '7-11-2023', 'status': 'GNWL6/WL1'},...</td>\n",
       "      <td>12283</td>\n",
       "      <td>2023-10-30 01:15:53.104962</td>\n",
       "      <td>ERS</td>\n",
       "      <td>NZM</td>\n",
       "      <td>1A</td>\n",
       "      <td>8315</td>\n",
       "    </tr>\n",
       "  </tbody>\n",
       "</table>\n",
       "</div>"
      ],
      "text/plain": [
       "       baseFare  reservationCharge  superfastCharge  serviceTax  \\\n",
       "56156      6541                 60               75       334.0   \n",
       "\n",
       "       cateringCharge  dynamicFare  totalFare  \\\n",
       "56156            1365            0       8375   \n",
       "\n",
       "                                            availability  trainNumber  \\\n",
       "56156  [{'date': '7-11-2023', 'status': 'GNWL6/WL1'},...        12283   \n",
       "\n",
       "                        timeStamp fromStnCode toStnCode classCode  \\\n",
       "56156  2023-10-30 01:15:53.104962         ERS       NZM        1A   \n",
       "\n",
       "       total_sub_res  \n",
       "56156           8315  "
      ]
     },
     "execution_count": 72,
     "metadata": {},
     "output_type": "execute_result"
    }
   ],
   "source": [
    "# ERS NZM DURONTO (12283)\n",
    "# this train really charges 8375 for Ernakulam to nizam first AC.\n",
    "df.iloc[[df.baseFare.argmax()]]"
   ]
  },
  {
   "cell_type": "code",
   "execution_count": 73,
   "metadata": {
    "ExecuteTime": {
     "end_time": "2023-11-06T13:14:08.025796500Z",
     "start_time": "2023-11-06T13:14:07.954576100Z"
    },
    "collapsed": false,
    "pycharm": {
     "name": "#%%\n"
    }
   },
   "outputs": [
    {
     "data": {
      "text/plain": [
       "trainNumber  classCode  baseFare\n",
       "1027         2A         1321         9\n",
       "                        1478         1\n",
       "                        1516         1\n",
       "                        1588         1\n",
       "                        1626         1\n",
       "                                    ..\n",
       "22645        SL         815         11\n",
       "                        825          7\n",
       "                        835          7\n",
       "                        845          2\n",
       "                        855          2\n",
       "Name: totalFare, Length: 61104, dtype: int64"
      ]
     },
     "execution_count": 73,
     "metadata": {},
     "output_type": "execute_result"
    }
   ],
   "source": [
    "# This also proves that base fare is quite independent of class code and complex. might depend on distance\n",
    "df.groupby(['trainNumber', 'classCode', 'baseFare'])['totalFare'].count()"
   ]
  },
  {
   "cell_type": "code",
   "execution_count": 41,
   "metadata": {},
   "outputs": [
    {
     "name": "stdout",
     "output_type": "stream",
     "text": [
      "          baseFare  class_1A  class_2A  class_2S  class_3A  class_CC  class_SL\n",
      "baseFare  1.000000  0.511497  0.275228 -0.175850 -0.017088 -0.128387 -0.486440\n",
      "class_1A  0.511497  1.000000 -0.209819 -0.061585 -0.217306 -0.064032 -0.232744\n",
      "class_2A  0.275228 -0.209819  1.000000 -0.101669 -0.358744 -0.105709 -0.384231\n",
      "class_2S -0.175850 -0.061585 -0.101669  1.000000 -0.105296 -0.031027 -0.112777\n",
      "class_3A -0.017088 -0.217306 -0.358744 -0.105296  1.000000 -0.109481 -0.397941\n",
      "class_CC -0.128387 -0.064032 -0.105709 -0.031027 -0.109481  1.000000 -0.117259\n",
      "class_SL -0.486440 -0.232744 -0.384231 -0.112777 -0.397941 -0.117259  1.000000\n"
     ]
    },
    {
     "data": {
      "image/png": "[encoded data removed]",
      "text/plain": [
       "<Figure size 800x600 with 2 Axes>"
      ]
     },
     "metadata": {},
     "output_type": "display_data"
    }
   ],
   "source": [
    "import seaborn as sns\n",
    "\n",
    "\n",
    "# 1. One-hot encode the class column\n",
    "class_dummies = pd.get_dummies(df['classCode'], prefix='class')\n",
    "\n",
    "# 2. Concatenate baseFare with the dummy columns\n",
    "df_for_corr = pd.concat([df[['baseFare']], class_dummies], axis=1)\n",
    "\n",
    "# 3. Compute the correlation matrix\n",
    "corr_matrix = df_for_corr.corr()\n",
    "\n",
    "# 4. Print the correlation matrix\n",
    "print(corr_matrix)\n",
    "\n",
    "# 5. (Optional) Visualize the correlation matrix with a heatmap\n",
    "plt.figure(figsize=(8, 6))\n",
    "sns.heatmap(corr_matrix, annot=True, cmap='Blues', fmt=\".2f\")\n",
    "plt.title(\"Correlation Matrix of baseFare and Classes\")\n",
    "plt.show()\n"
   ]
  },
  {
   "cell_type": "markdown",
   "metadata": {},
   "source": [
    "#### we can constantly see lower average fares as we go down the classes, the lowest being in SL"
   ]
  },
  {
   "cell_type": "markdown",
   "metadata": {
    "collapsed": false,
    "pycharm": {
     "name": "#%% md\n"
    }
   },
   "source": [
    "## Superfast Charge"
   ]
  },
  {
   "cell_type": "code",
   "execution_count": 42,
   "metadata": {
    "ExecuteTime": {
     "end_time": "2023-11-06T13:14:10.366128900Z",
     "start_time": "2023-11-06T13:14:10.296428600Z"
    },
    "collapsed": false,
    "pycharm": {
     "name": "#%%\n"
    }
   },
   "outputs": [
    {
     "data": {
      "text/plain": [
       "trainNumber  classCode  superfastCharge\n",
       "1027         2A         0                  100\n",
       "             3A         0                  100\n",
       "             SL         0                  100\n",
       "1065         2S         0                   75\n",
       "             CC         0                   75\n",
       "                                          ... \n",
       "22644        3A         45                 455\n",
       "             SL         30                 455\n",
       "22645        2A         45                 272\n",
       "             3A         45                 272\n",
       "             SL         30                 272\n",
       "Name: totalFare, Length: 1603, dtype: int64"
      ]
     },
     "execution_count": 42,
     "metadata": {},
     "output_type": "execute_result"
    }
   ],
   "source": [
    "# for train number 2101, three different class code have different super-fast charges. class code not only determines\n",
    "# base fare but the superfast charge as well.\n",
    "df.groupby(['trainNumber','classCode', 'superfastCharge'])['totalFare'].count()"
   ]
  },
  {
   "cell_type": "code",
   "execution_count": 43,
   "metadata": {
    "ExecuteTime": {
     "end_time": "2023-11-06T13:14:13.125758700Z",
     "start_time": "2023-11-06T13:14:13.108414800Z"
    },
    "collapsed": false,
    "pycharm": {
     "name": "#%%\n"
    }
   },
   "outputs": [
    {
     "data": {
      "text/plain": [
       "trainNumber  superfastCharge  classCode  fromStnCode\n",
       "2101         15               2S         DR             5\n",
       "                                         IGP            4\n",
       "                                         KYN            5\n",
       "                                         LS             1\n",
       "                                         NK             3\n",
       "                                         NR             2\n",
       "                                         TNA            5\n",
       "             30               SL         DR             5\n",
       "                                         IGP            4\n",
       "                                         KYN            5\n",
       "                                         LS             1\n",
       "                                         NK             3\n",
       "                                         NR             2\n",
       "                                         TNA            5\n",
       "             45               CC         DR             5\n",
       "                                         IGP            4\n",
       "                                         KYN            5\n",
       "                                         LS             1\n",
       "                                         NK             3\n",
       "                                         NR             2\n",
       "                                         TNA            5\n",
       "Name: totalFare, dtype: int64"
      ]
     },
     "execution_count": 43,
     "metadata": {},
     "output_type": "execute_result"
    }
   ],
   "source": [
    "# superfast charge only determined by train number and class code and independent of train travel distance. So can\n",
    "# easily be precomputed\n",
    "df[df.trainNumber==2101].groupby(['trainNumber', 'superfastCharge', 'classCode', 'fromStnCode'])['totalFare'].count()"
   ]
  },
  {
   "cell_type": "code",
   "execution_count": 44,
   "metadata": {
    "ExecuteTime": {
     "end_time": "2023-11-06T13:14:15.097510500Z",
     "start_time": "2023-11-06T13:14:15.038167500Z"
    },
    "collapsed": false,
    "pycharm": {
     "name": "#%%\n"
    }
   },
   "outputs": [],
   "source": [
    "df1 = df[df.superfastCharge>0].groupby(['trainNumber','classCode', 'superfastCharge'])['totalFare'].count()\n",
    "lst = df1.index.to_list()\n",
    "json.dump(lst, open(\"../Data/precomputes/superfast_charge.json\", 'w'))"
   ]
  },
  {
   "cell_type": "code",
   "execution_count": 45,
   "metadata": {
    "ExecuteTime": {
     "end_time": "2023-11-06T13:14:16.817542800Z",
     "start_time": "2023-11-06T13:14:16.800200300Z"
    },
    "collapsed": false,
    "pycharm": {
     "name": "#%%\n"
    }
   },
   "outputs": [],
   "source": [
    "df['total_sub_res_sub_sup'] = df.total_sub_res - df.superfastCharge"
   ]
  },
  {
   "cell_type": "markdown",
   "metadata": {
    "collapsed": false,
    "pycharm": {
     "name": "#%% md\n"
    }
   },
   "source": [
    "## Catering Charge"
   ]
  },
  {
   "cell_type": "code",
   "execution_count": 46,
   "metadata": {
    "ExecuteTime": {
     "end_time": "2023-11-06T13:14:22.281615500Z",
     "start_time": "2023-11-06T13:14:22.262329500Z"
    },
    "collapsed": false,
    "pycharm": {
     "name": "#%%\n"
    }
   },
   "outputs": [
    {
     "data": {
      "text/plain": [
       "trainNumber  cateringCharge  classCode\n",
       "12018        90              CC            40\n",
       "             185             CC           100\n",
       "             275             CC            60\n",
       "12025        125             CC            17\n",
       "             185             CC           102\n",
       "                                         ... \n",
       "22225        308             CC            85\n",
       "22549        35              CC             1\n",
       "             142             CC             5\n",
       "22550        242             CC             3\n",
       "             257             CC             3\n",
       "Name: totalFare, Length: 501, dtype: int64"
      ]
     },
     "execution_count": 46,
     "metadata": {},
     "output_type": "execute_result"
    }
   ],
   "source": [
    "# definitely depends on train arrival and departure as they give food on fixed time periods like lunch, dinner, ...\n",
    "df[df.cateringCharge>0].groupby(['trainNumber', 'cateringCharge', 'classCode'])['totalFare'].count()"
   ]
  },
  {
   "cell_type": "code",
   "execution_count": 47,
   "metadata": {
    "ExecuteTime": {
     "end_time": "2023-11-06T13:14:25.056195300Z",
     "start_time": "2023-11-06T13:14:25.030911700Z"
    },
    "collapsed": false,
    "pycharm": {
     "name": "#%%\n"
    }
   },
   "outputs": [
    {
     "data": {
      "text/plain": [
       "array([12018, 12025, 12041, 12261, 12269, 12270, 12274, 12278, 12281,\n",
       "       12282, 12285, 12286, 12293, 12294, 12301, 12302, 12305, 12306,\n",
       "       12309, 12310, 12313, 12314, 20662, 20839, 20840, 22221, 22225,\n",
       "       12283, 12284, 20834, 20835, 20836, 20897, 20898, 20901, 20902,\n",
       "       20911, 20912, 22549, 22550], dtype=int64)"
      ]
     },
     "execution_count": 47,
     "metadata": {},
     "output_type": "execute_result"
    }
   ],
   "source": [
    "# Only 33 trains offer catering. One column can be added if the train offers catering or not\n",
    "df[df.cateringCharge>0].trainNumber.unique()"
   ]
  },
  {
   "cell_type": "code",
   "execution_count": 48,
   "metadata": {
    "ExecuteTime": {
     "end_time": "2023-11-06T13:14:27.340216700Z",
     "start_time": "2023-11-06T13:14:27.325566500Z"
    },
    "collapsed": false,
    "pycharm": {
     "name": "#%%\n"
    }
   },
   "outputs": [],
   "source": [
    "lst = df[df.cateringCharge>0].trainNumber.unique().tolist()\n",
    "json.dump(lst, open(\"../Data/precomputes/catering_trains.json\", 'w'))"
   ]
  },
  {
   "cell_type": "code",
   "execution_count": 50,
   "metadata": {
    "ExecuteTime": {
     "end_time": "2023-11-06T13:14:27.999974100Z",
     "start_time": "2023-11-06T13:14:27.982519200Z"
    },
    "collapsed": false,
    "pycharm": {
     "name": "#%%\n"
    }
   },
   "outputs": [],
   "source": [
    "df['if_offering_catering'] = df.cateringCharge>0"
   ]
  },
  {
   "cell_type": "markdown",
   "metadata": {
    "collapsed": false,
    "pycharm": {
     "name": "#%% md\n"
    }
   },
   "source": [
    "## Dynamic fare"
   ]
  },
  {
   "cell_type": "code",
   "execution_count": 51,
   "metadata": {
    "ExecuteTime": {
     "end_time": "2023-11-06T13:14:29.728876200Z",
     "start_time": "2023-11-06T13:14:29.714271600Z"
    },
    "collapsed": false,
    "pycharm": {
     "name": "#%%\n"
    }
   },
   "outputs": [
    {
     "data": {
      "text/plain": [
       "array([12018, 12025, 12041, 12261, 12269, 12270, 12274, 12278, 12281,\n",
       "       12282, 12284, 12285, 12286, 12289, 12290, 12293, 12294, 12297,\n",
       "       12298, 12301, 12302, 12305, 12306, 12309, 12310, 12313, 12314,\n",
       "       20839, 20840, 22221, 12283], dtype=int64)"
      ]
     },
     "execution_count": 51,
     "metadata": {},
     "output_type": "execute_result"
    }
   ],
   "source": [
    "# as the name says. depends on date for very few trains\n",
    "# only 26 train offers\n",
    "df[df.dynamicFare>0].trainNumber.unique()"
   ]
  },
  {
   "cell_type": "code",
   "execution_count": 52,
   "metadata": {
    "ExecuteTime": {
     "end_time": "2023-11-06T13:14:31.687975300Z",
     "start_time": "2023-11-06T13:14:31.671719700Z"
    },
    "collapsed": false,
    "pycharm": {
     "name": "#%%\n"
    }
   },
   "outputs": [],
   "source": [
    "lst = df[df.dynamicFare>0].trainNumber.unique().tolist()\n",
    "json.dump(lst, open(\"../Data/precomputes/dynamicfare_trains.json\", 'w'))"
   ]
  },
  {
   "cell_type": "code",
   "execution_count": 53,
   "metadata": {
    "ExecuteTime": {
     "end_time": "2023-11-06T13:14:32.522115Z",
     "start_time": "2023-11-06T13:14:32.505475600Z"
    },
    "collapsed": false,
    "pycharm": {
     "name": "#%%\n"
    }
   },
   "outputs": [],
   "source": [
    "df['if_dynamic_fare'] = df.dynamicFare>0"
   ]
  },
  {
   "cell_type": "markdown",
   "metadata": {
    "collapsed": false,
    "pycharm": {
     "name": "#%% md\n"
    }
   },
   "source": [
    "## Preparing data for further analysis"
   ]
  },
  {
   "cell_type": "code",
   "execution_count": 54,
   "metadata": {
    "ExecuteTime": {
     "end_time": "2023-11-06T13:14:34.267389900Z",
     "start_time": "2023-11-06T13:14:34.246383200Z"
    },
    "collapsed": false,
    "pycharm": {
     "name": "#%%\n"
    }
   },
   "outputs": [
    {
     "data": {
      "text/html": [
       "<div>\n",
       "<style scoped>\n",
       "    .dataframe tbody tr th:only-of-type {\n",
       "        vertical-align: middle;\n",
       "    }\n",
       "\n",
       "    .dataframe tbody tr th {\n",
       "        vertical-align: top;\n",
       "    }\n",
       "\n",
       "    .dataframe thead th {\n",
       "        text-align: right;\n",
       "    }\n",
       "</style>\n",
       "<table border=\"1\" class=\"dataframe\">\n",
       "  <thead>\n",
       "    <tr style=\"text-align: right;\">\n",
       "      <th></th>\n",
       "      <th>baseFare</th>\n",
       "      <th>reservationCharge</th>\n",
       "      <th>superfastCharge</th>\n",
       "      <th>serviceTax</th>\n",
       "      <th>cateringCharge</th>\n",
       "      <th>dynamicFare</th>\n",
       "      <th>totalFare</th>\n",
       "      <th>availability</th>\n",
       "      <th>trainNumber</th>\n",
       "      <th>fromStnCode</th>\n",
       "      <th>toStnCode</th>\n",
       "      <th>classCode</th>\n",
       "      <th>timeStamp</th>\n",
       "      <th>total_sub_res</th>\n",
       "      <th>total_sub_res_sub_sup</th>\n",
       "      <th>if_offering_catering</th>\n",
       "      <th>if_dynamic_fare</th>\n",
       "    </tr>\n",
       "  </thead>\n",
       "  <tbody>\n",
       "    <tr>\n",
       "      <th>0</th>\n",
       "      <td>2350</td>\n",
       "      <td>50</td>\n",
       "      <td>0</td>\n",
       "      <td>120.0</td>\n",
       "      <td>0</td>\n",
       "      <td>0</td>\n",
       "      <td>2520</td>\n",
       "      <td>[{'date': '5-11-2023', 'status': 'PQWL17/WL10'...</td>\n",
       "      <td>1027</td>\n",
       "      <td>NK</td>\n",
       "      <td>CKTD</td>\n",
       "      <td>2A</td>\n",
       "      <td>2023-10-31 19:25:08.643266</td>\n",
       "      <td>2470</td>\n",
       "      <td>2470</td>\n",
       "      <td>False</td>\n",
       "      <td>False</td>\n",
       "    </tr>\n",
       "    <tr>\n",
       "      <th>1</th>\n",
       "      <td>2350</td>\n",
       "      <td>50</td>\n",
       "      <td>0</td>\n",
       "      <td>120.0</td>\n",
       "      <td>0</td>\n",
       "      <td>0</td>\n",
       "      <td>2520</td>\n",
       "      <td>[{'date': '16-11-2023', 'status': 'PQWL12/WL9'...</td>\n",
       "      <td>1027</td>\n",
       "      <td>NK</td>\n",
       "      <td>CKTD</td>\n",
       "      <td>2A</td>\n",
       "      <td>2023-10-31 19:25:08.643266</td>\n",
       "      <td>2470</td>\n",
       "      <td>2470</td>\n",
       "      <td>False</td>\n",
       "      <td>False</td>\n",
       "    </tr>\n",
       "    <tr>\n",
       "      <th>2</th>\n",
       "      <td>2350</td>\n",
       "      <td>50</td>\n",
       "      <td>0</td>\n",
       "      <td>120.0</td>\n",
       "      <td>0</td>\n",
       "      <td>0</td>\n",
       "      <td>2520</td>\n",
       "      <td>[{'date': '26-11-2023', 'status': 'PQWL5/WL2'}...</td>\n",
       "      <td>1027</td>\n",
       "      <td>NK</td>\n",
       "      <td>CKTD</td>\n",
       "      <td>2A</td>\n",
       "      <td>2023-10-31 19:25:08.643266</td>\n",
       "      <td>2470</td>\n",
       "      <td>2470</td>\n",
       "      <td>False</td>\n",
       "      <td>False</td>\n",
       "    </tr>\n",
       "    <tr>\n",
       "      <th>3</th>\n",
       "      <td>2350</td>\n",
       "      <td>50</td>\n",
       "      <td>0</td>\n",
       "      <td>120.0</td>\n",
       "      <td>0</td>\n",
       "      <td>0</td>\n",
       "      <td>2520</td>\n",
       "      <td>[{'date': '7-12-2023', 'status': 'PQWL1/WL1'},...</td>\n",
       "      <td>1027</td>\n",
       "      <td>NK</td>\n",
       "      <td>CKTD</td>\n",
       "      <td>2A</td>\n",
       "      <td>2023-10-31 19:25:08.643266</td>\n",
       "      <td>2470</td>\n",
       "      <td>2470</td>\n",
       "      <td>False</td>\n",
       "      <td>False</td>\n",
       "    </tr>\n",
       "    <tr>\n",
       "      <th>4</th>\n",
       "      <td>2350</td>\n",
       "      <td>50</td>\n",
       "      <td>0</td>\n",
       "      <td>120.0</td>\n",
       "      <td>0</td>\n",
       "      <td>0</td>\n",
       "      <td>2520</td>\n",
       "      <td>[{'date': '17-12-2023', 'status': 'AVAILABLE-0...</td>\n",
       "      <td>1027</td>\n",
       "      <td>NK</td>\n",
       "      <td>CKTD</td>\n",
       "      <td>2A</td>\n",
       "      <td>2023-10-31 19:25:08.643266</td>\n",
       "      <td>2470</td>\n",
       "      <td>2470</td>\n",
       "      <td>False</td>\n",
       "      <td>False</td>\n",
       "    </tr>\n",
       "  </tbody>\n",
       "</table>\n",
       "</div>"
      ],
      "text/plain": [
       "   baseFare  reservationCharge  superfastCharge  serviceTax  cateringCharge  \\\n",
       "0      2350                 50                0       120.0               0   \n",
       "1      2350                 50                0       120.0               0   \n",
       "2      2350                 50                0       120.0               0   \n",
       "3      2350                 50                0       120.0               0   \n",
       "4      2350                 50                0       120.0               0   \n",
       "\n",
       "   dynamicFare  totalFare                                       availability  \\\n",
       "0            0       2520  [{'date': '5-11-2023', 'status': 'PQWL17/WL10'...   \n",
       "1            0       2520  [{'date': '16-11-2023', 'status': 'PQWL12/WL9'...   \n",
       "2            0       2520  [{'date': '26-11-2023', 'status': 'PQWL5/WL2'}...   \n",
       "3            0       2520  [{'date': '7-12-2023', 'status': 'PQWL1/WL1'},...   \n",
       "4            0       2520  [{'date': '17-12-2023', 'status': 'AVAILABLE-0...   \n",
       "\n",
       "   trainNumber fromStnCode toStnCode classCode                   timeStamp  \\\n",
       "0         1027          NK      CKTD        2A  2023-10-31 19:25:08.643266   \n",
       "1         1027          NK      CKTD        2A  2023-10-31 19:25:08.643266   \n",
       "2         1027          NK      CKTD        2A  2023-10-31 19:25:08.643266   \n",
       "3         1027          NK      CKTD        2A  2023-10-31 19:25:08.643266   \n",
       "4         1027          NK      CKTD        2A  2023-10-31 19:25:08.643266   \n",
       "\n",
       "   total_sub_res  total_sub_res_sub_sup  if_offering_catering  if_dynamic_fare  \n",
       "0           2470                   2470                 False            False  \n",
       "1           2470                   2470                 False            False  \n",
       "2           2470                   2470                 False            False  \n",
       "3           2470                   2470                 False            False  \n",
       "4           2470                   2470                 False            False  "
      ]
     },
     "execution_count": 54,
     "metadata": {},
     "output_type": "execute_result"
    }
   ],
   "source": [
    "df.head()"
   ]
  },
  {
   "cell_type": "code",
   "execution_count": 55,
   "metadata": {
    "collapsed": false,
    "pycharm": {
     "name": "#%%\n"
    }
   },
   "outputs": [],
   "source": [
    "dff = df[['trainNumber', 'fromStnCode', 'toStnCode', 'classCode',\n",
    "         'totalFare']]\n",
    "dff.to_csv(\"../Data/processed_data/all_no_fare_analysis.csv\", index=False)"
   ]
  },
  {
   "cell_type": "code",
   "execution_count": 56,
   "metadata": {
    "ExecuteTime": {
     "end_time": "2023-11-06T13:14:49.339692100Z",
     "start_time": "2023-11-06T13:14:48.835358800Z"
    },
    "collapsed": false,
    "pycharm": {
     "name": "#%%\n"
    }
   },
   "outputs": [
    {
     "name": "stderr",
     "output_type": "stream",
     "text": [
      "C:\\Users\\Neetu\\AppData\\Local\\Temp\\ipykernel_24916\\600853144.py:3: SettingWithCopyWarning: \n",
      "A value is trying to be set on a copy of a slice from a DataFrame\n",
      "\n",
      "See the caveats in the documentation: https://pandas.pydata.org/pandas-docs/stable/user_guide/indexing.html#returning-a-view-versus-a-copy\n",
      "  dff.rename(columns={'total_sub_res_sub_sup': 'fare_to_predict'}, inplace=True)\n"
     ]
    }
   ],
   "source": [
    "dff = df[['trainNumber', 'fromStnCode', 'toStnCode', 'classCode', 'if_offering_catering', 'if_dynamic_fare',\n",
    "         'total_sub_res_sub_sup']]\n",
    "dff.rename(columns={'total_sub_res_sub_sup': 'fare_to_predict'}, inplace=True)\n",
    "dff.to_csv(\"../Data/processed_data/all_fare_analyzed.csv\", index=False)"
   ]
  },
  {
   "cell_type": "code",
   "execution_count": null,
   "metadata": {},
   "outputs": [],
   "source": []
  }
 ],
 "metadata": {
  "kernelspec": {
   "display_name": "base",
   "language": "python",
   "name": "python3"
  },
  "language_info": {
   "codemirror_mode": {
    "name": "ipython",
    "version": 3
   },
   "file_extension": ".py",
   "mimetype": "text/x-python",
   "name": "python",
   "nbconvert_exporter": "python",
   "pygments_lexer": "ipython3",
   "version": "3.10.9"
  }
 },
 "nbformat": 4,
 "nbformat_minor": 0
}
