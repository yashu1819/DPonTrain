{
 "cells": [
  {
   "cell_type": "code",
   "execution_count": 1,
   "metadata": {},
   "outputs": [],
   "source": [
    "import numpy as np\n",
    "import pandas as pd\n",
    "import matplotlib.pyplot as plt"
   ]
  },
  {
   "cell_type": "code",
   "execution_count": 3,
   "metadata": {},
   "outputs": [
    {
     "data": {
      "text/html": [
       "<div>\n",
       "<style scoped>\n",
       "    .dataframe tbody tr th:only-of-type {\n",
       "        vertical-align: middle;\n",
       "    }\n",
       "\n",
       "    .dataframe tbody tr th {\n",
       "        vertical-align: top;\n",
       "    }\n",
       "\n",
       "    .dataframe thead th {\n",
       "        text-align: right;\n",
       "    }\n",
       "</style>\n",
       "<table border=\"1\" class=\"dataframe\">\n",
       "  <thead>\n",
       "    <tr style=\"text-align: right;\">\n",
       "      <th></th>\n",
       "      <th>baseFare</th>\n",
       "      <th>reservationCharge</th>\n",
       "      <th>superfastCharge</th>\n",
       "      <th>fuelAmount</th>\n",
       "      <th>totalConcession</th>\n",
       "      <th>tatkalFare</th>\n",
       "      <th>serviceTax</th>\n",
       "      <th>otherCharge</th>\n",
       "      <th>cateringCharge</th>\n",
       "      <th>dynamicFare</th>\n",
       "      <th>totalFare</th>\n",
       "      <th>availability</th>\n",
       "      <th>trainNumber</th>\n",
       "      <th>timeStamp</th>\n",
       "      <th>fromStnCode</th>\n",
       "      <th>toStnCode</th>\n",
       "      <th>classCode</th>\n",
       "    </tr>\n",
       "  </thead>\n",
       "  <tbody>\n",
       "    <tr>\n",
       "      <th>0</th>\n",
       "      <td>1059</td>\n",
       "      <td>60</td>\n",
       "      <td>0</td>\n",
       "      <td>0.0</td>\n",
       "      <td>0</td>\n",
       "      <td>0</td>\n",
       "      <td>56.0</td>\n",
       "      <td>0</td>\n",
       "      <td>0</td>\n",
       "      <td>0</td>\n",
       "      <td>1175</td>\n",
       "      <td>[{'date': '2-12-2023', 'status': 'AVAILABLE-00...</td>\n",
       "      <td>11464</td>\n",
       "      <td>2023-10-03 22:13:07.781307</td>\n",
       "      <td>JBP</td>\n",
       "      <td>SRID</td>\n",
       "      <td>1A</td>\n",
       "    </tr>\n",
       "    <tr>\n",
       "      <th>1</th>\n",
       "      <td>626</td>\n",
       "      <td>50</td>\n",
       "      <td>0</td>\n",
       "      <td>0.0</td>\n",
       "      <td>0</td>\n",
       "      <td>0</td>\n",
       "      <td>34.0</td>\n",
       "      <td>0</td>\n",
       "      <td>0</td>\n",
       "      <td>0</td>\n",
       "      <td>710</td>\n",
       "      <td>[{'date': '2-12-2023', 'status': 'AVAILABLE-00...</td>\n",
       "      <td>11464</td>\n",
       "      <td>2023-10-03 22:13:07.781307</td>\n",
       "      <td>JBP</td>\n",
       "      <td>SRID</td>\n",
       "      <td>2A</td>\n",
       "    </tr>\n",
       "    <tr>\n",
       "      <th>2</th>\n",
       "      <td>441</td>\n",
       "      <td>40</td>\n",
       "      <td>0</td>\n",
       "      <td>0.0</td>\n",
       "      <td>0</td>\n",
       "      <td>0</td>\n",
       "      <td>24.0</td>\n",
       "      <td>0</td>\n",
       "      <td>0</td>\n",
       "      <td>0</td>\n",
       "      <td>505</td>\n",
       "      <td>[{'date': '2-12-2023', 'status': 'AVAILABLE-01...</td>\n",
       "      <td>11464</td>\n",
       "      <td>2023-10-03 22:13:07.781307</td>\n",
       "      <td>JBP</td>\n",
       "      <td>SRID</td>\n",
       "      <td>3A</td>\n",
       "    </tr>\n",
       "    <tr>\n",
       "      <th>3</th>\n",
       "      <td>125</td>\n",
       "      <td>20</td>\n",
       "      <td>0</td>\n",
       "      <td>0.0</td>\n",
       "      <td>0</td>\n",
       "      <td>0</td>\n",
       "      <td>0.0</td>\n",
       "      <td>0</td>\n",
       "      <td>0</td>\n",
       "      <td>0</td>\n",
       "      <td>145</td>\n",
       "      <td>[{'date': '2-12-2023', 'status': 'AVAILABLE-00...</td>\n",
       "      <td>11464</td>\n",
       "      <td>2023-10-03 22:13:07.781307</td>\n",
       "      <td>JBP</td>\n",
       "      <td>SRID</td>\n",
       "      <td>SL</td>\n",
       "    </tr>\n",
       "    <tr>\n",
       "      <th>4</th>\n",
       "      <td>1059</td>\n",
       "      <td>60</td>\n",
       "      <td>0</td>\n",
       "      <td>0.0</td>\n",
       "      <td>0</td>\n",
       "      <td>0</td>\n",
       "      <td>56.0</td>\n",
       "      <td>0</td>\n",
       "      <td>0</td>\n",
       "      <td>0</td>\n",
       "      <td>1175</td>\n",
       "      <td>[{'date': '2-12-2023', 'status': 'AVAILABLE-00...</td>\n",
       "      <td>11464</td>\n",
       "      <td>2023-10-03 22:13:07.781307</td>\n",
       "      <td>JBP</td>\n",
       "      <td>KKB</td>\n",
       "      <td>1A</td>\n",
       "    </tr>\n",
       "  </tbody>\n",
       "</table>\n",
       "</div>"
      ],
      "text/plain": [
       "   baseFare  reservationCharge  superfastCharge  fuelAmount  totalConcession  \\\n",
       "0      1059                 60                0         0.0                0   \n",
       "1       626                 50                0         0.0                0   \n",
       "2       441                 40                0         0.0                0   \n",
       "3       125                 20                0         0.0                0   \n",
       "4      1059                 60                0         0.0                0   \n",
       "\n",
       "   tatkalFare  serviceTax  otherCharge  cateringCharge  dynamicFare  \\\n",
       "0           0        56.0            0               0            0   \n",
       "1           0        34.0            0               0            0   \n",
       "2           0        24.0            0               0            0   \n",
       "3           0         0.0            0               0            0   \n",
       "4           0        56.0            0               0            0   \n",
       "\n",
       "   totalFare                                       availability  trainNumber  \\\n",
       "0       1175  [{'date': '2-12-2023', 'status': 'AVAILABLE-00...        11464   \n",
       "1        710  [{'date': '2-12-2023', 'status': 'AVAILABLE-00...        11464   \n",
       "2        505  [{'date': '2-12-2023', 'status': 'AVAILABLE-01...        11464   \n",
       "3        145  [{'date': '2-12-2023', 'status': 'AVAILABLE-00...        11464   \n",
       "4       1175  [{'date': '2-12-2023', 'status': 'AVAILABLE-00...        11464   \n",
       "\n",
       "                    timeStamp fromStnCode toStnCode classCode  \n",
       "0  2023-10-03 22:13:07.781307         JBP      SRID        1A  \n",
       "1  2023-10-03 22:13:07.781307         JBP      SRID        2A  \n",
       "2  2023-10-03 22:13:07.781307         JBP      SRID        3A  \n",
       "3  2023-10-03 22:13:07.781307         JBP      SRID        SL  \n",
       "4  2023-10-03 22:13:07.781307         JBP       KKB        1A  "
      ]
     },
     "execution_count": 3,
     "metadata": {},
     "output_type": "execute_result"
    }
   ],
   "source": [
    "df = pd.read_csv(\"static_coverage.csv\")\n",
    "df.head()"
   ]
  },
  {
   "cell_type": "code",
   "execution_count": 4,
   "metadata": {},
   "outputs": [
    {
     "name": "stdout",
     "output_type": "stream",
     "text": [
      "<class 'pandas.core.series.Series'>\n",
      "RangeIndex: 296055 entries, 0 to 296054\n",
      "Series name: availability\n",
      "Non-Null Count   Dtype \n",
      "--------------   ----- \n",
      "296055 non-null  object\n",
      "dtypes: object(1)\n",
      "memory usage: 2.3+ MB\n",
      "None\n"
     ]
    }
   ],
   "source": [
    "print(df[\"availability\"].info())"
   ]
  },
  {
   "cell_type": "code",
   "execution_count": 8,
   "metadata": {},
   "outputs": [
    {
     "name": "stdout",
     "output_type": "stream",
     "text": [
      "[{'date': '2-12-2023', 'status': 'AVAILABLE-0008'}, {'date': '3-12-2023', 'status': 'AVAILABLE-0014'}, {'date': '5-12-2023', 'status': 'AVAILABLE-0011'}, {'date': '6-12-2023', 'status': 'AVAILABLE-0004'}, {'date': '7-12-2023', 'status': 'AVAILABLE-0014'}, {'date': '9-12-2023', 'status': 'AVAILABLE-0012'}]\n"
     ]
    }
   ],
   "source": [
    "print(df[\"availability\"][0])"
   ]
  },
  {
   "cell_type": "code",
   "execution_count": 9,
   "metadata": {},
   "outputs": [],
   "source": [
    "import ast\n",
    "\n",
    "df['availability'] = df['availability'].apply(ast.literal_eval)\n"
   ]
  },
  {
   "cell_type": "code",
   "execution_count": null,
   "metadata": {},
   "outputs": [
    {
     "name": "stdout",
     "output_type": "stream",
     "text": [
      "{'date': '2-12-2023', 'status': 'AVAILABLE-0008'}\n"
     ]
    }
   ],
   "source": [
    "print(df[\"availability\"][0][0])"
   ]
  },
  {
   "cell_type": "code",
   "execution_count": 11,
   "metadata": {},
   "outputs": [
    {
     "name": "stdout",
     "output_type": "stream",
     "text": [
      "[6 4 5 3]\n"
     ]
    }
   ],
   "source": [
    "df['availability_length'] = df['availability'].apply(len)\n",
    "print(df['availability_length'].unique())\n"
   ]
  },
  {
   "cell_type": "code",
   "execution_count": 12,
   "metadata": {},
   "outputs": [
    {
     "name": "stdout",
     "output_type": "stream",
     "text": [
      "availability_length\n",
      "6    288287\n",
      "4      3777\n",
      "5      3504\n",
      "3       487\n",
      "Name: count, dtype: int64\n"
     ]
    }
   ],
   "source": [
    "print(df['availability_length'].value_counts())\n"
   ]
  },
  {
   "cell_type": "code",
   "execution_count": 16,
   "metadata": {},
   "outputs": [
    {
     "name": "stdout",
     "output_type": "stream",
     "text": [
      "<class 'dict'>\n"
     ]
    }
   ],
   "source": [
    "print (type(df[\"availability\"][0][0]))"
   ]
  },
  {
   "cell_type": "code",
   "execution_count": 18,
   "metadata": {},
   "outputs": [
    {
     "name": "stdout",
     "output_type": "stream",
     "text": [
      "<class 'str'>\n"
     ]
    }
   ],
   "source": [
    "print(type(df[\"availability\"][0][0]['date']))"
   ]
  },
  {
   "cell_type": "code",
   "execution_count": 20,
   "metadata": {},
   "outputs": [
    {
     "name": "stdout",
     "output_type": "stream",
     "text": [
      "available_count\n",
      "0    151633\n",
      "6     49486\n",
      "1     25644\n",
      "2     18888\n",
      "3     17243\n",
      "4     16738\n",
      "5     16423\n",
      "Name: count, dtype: int64\n"
     ]
    }
   ],
   "source": [
    "df['available_count'] = df['availability'].apply(lambda lst: sum(1 for entry in lst if entry['status'][:5] == \"AVAIL\"))\n",
    "print(df['available_count'].value_counts())"
   ]
  },
  {
   "cell_type": "code",
   "execution_count": 26,
   "metadata": {},
   "outputs": [
    {
     "name": "stdout",
     "output_type": "stream",
     "text": [
      "available_count6\n",
      "0    221123\n",
      "6     49486\n",
      "5     10927\n",
      "4      6580\n",
      "3      3453\n",
      "2      3089\n",
      "1      1397\n",
      "Name: count, dtype: int64\n"
     ]
    }
   ],
   "source": [
    "df['available_count6'] = df['availability'].apply(lambda lst: sum(1 for entry in lst if (entry['status'][:5] == \"AVAIL\" and len(lst)==6 and lst[0]['status'][:5]==\"AVAIL\")))\n",
    "print(df['available_count6'].value_counts())"
   ]
  },
  {
   "cell_type": "code",
   "execution_count": 22,
   "metadata": {},
   "outputs": [
    {
     "name": "stdout",
     "output_type": "stream",
     "text": [
      "available_count5\n",
      "0    292965\n",
      "3      1010\n",
      "4       710\n",
      "1       585\n",
      "5       533\n",
      "2       252\n",
      "Name: count, dtype: int64\n"
     ]
    }
   ],
   "source": [
    "df['available_count5'] = df['availability'].apply(lambda lst: sum(1 for entry in lst if (entry['status'][:5] == \"AVAIL\" and len(lst)==5)))\n",
    "print(df['available_count5'].value_counts())"
   ]
  },
  {
   "cell_type": "code",
   "execution_count": null,
   "metadata": {},
   "outputs": [],
   "source": [
    "df = df[df['availability'].apply(len) == 6]\n"
   ]
  },
  {
   "cell_type": "code",
   "execution_count": 29,
   "metadata": {},
   "outputs": [
    {
     "name": "stdout",
     "output_type": "stream",
     "text": [
      "(288287, 21)\n"
     ]
    }
   ],
   "source": [
    "print(df.shape)"
   ]
  },
  {
   "cell_type": "code",
   "execution_count": 32,
   "metadata": {},
   "outputs": [
    {
     "name": "stdout",
     "output_type": "stream",
     "text": [
      "trainNumber\n",
      "11058    10458\n",
      "11057     9225\n",
      "13019     5310\n",
      "13020     5131\n",
      "16526     4496\n",
      "         ...  \n",
      "12337       12\n",
      "22549        6\n",
      "22550        6\n",
      "12275        2\n",
      "12276        2\n",
      "Name: count, Length: 427, dtype: int64\n"
     ]
    }
   ],
   "source": [
    "print(df['trainNumber'].value_counts())"
   ]
  },
  {
   "cell_type": "code",
   "execution_count": 47,
   "metadata": {},
   "outputs": [
    {
     "name": "stdout",
     "output_type": "stream",
     "text": [
      "0         2-12-2023\n",
      "1         2-12-2023\n",
      "2         2-12-2023\n",
      "3         2-12-2023\n",
      "4         2-12-2023\n",
      "            ...    \n",
      "296050    6-11-2023\n",
      "296051    6-11-2023\n",
      "296052    6-11-2023\n",
      "296053    6-11-2023\n",
      "296054    6-11-2023\n",
      "Name: date1, Length: 288287, dtype: object 0          3-12-2023\n",
      "1          3-12-2023\n",
      "2          3-12-2023\n",
      "3          3-12-2023\n",
      "4          3-12-2023\n",
      "             ...    \n",
      "296050    13-11-2023\n",
      "296051    13-11-2023\n",
      "296052    13-11-2023\n",
      "296053    13-11-2023\n",
      "296054    13-11-2023\n",
      "Name: date2, Length: 288287, dtype: object 0          5-12-2023\n",
      "1          5-12-2023\n",
      "2          5-12-2023\n",
      "3          5-12-2023\n",
      "4          5-12-2023\n",
      "             ...    \n",
      "296050    20-11-2023\n",
      "296051    20-11-2023\n",
      "296052    20-11-2023\n",
      "296053    20-11-2023\n",
      "296054    20-11-2023\n",
      "Name: date3, Length: 288287, dtype: object 0          6-12-2023\n",
      "1          6-12-2023\n",
      "2          6-12-2023\n",
      "3          6-12-2023\n",
      "4          6-12-2023\n",
      "             ...    \n",
      "296050    27-11-2023\n",
      "296051    27-11-2023\n",
      "296052    27-11-2023\n",
      "296053    27-11-2023\n",
      "296054    27-11-2023\n",
      "Name: date4, Length: 288287, dtype: object 0         7-12-2023\n",
      "1         7-12-2023\n",
      "2         7-12-2023\n",
      "3         7-12-2023\n",
      "4         7-12-2023\n",
      "            ...    \n",
      "296050    4-12-2023\n",
      "296051    4-12-2023\n",
      "296052    4-12-2023\n",
      "296053    4-12-2023\n",
      "296054    4-12-2023\n",
      "Name: date5, Length: 288287, dtype: object 0          9-12-2023\n",
      "1          9-12-2023\n",
      "2          9-12-2023\n",
      "3          9-12-2023\n",
      "4          9-12-2023\n",
      "             ...    \n",
      "296050    11-12-2023\n",
      "296051    11-12-2023\n",
      "296052    11-12-2023\n",
      "296053    11-12-2023\n",
      "296054    11-12-2023\n",
      "Name: date6, Length: 288287, dtype: object\n"
     ]
    }
   ],
   "source": [
    "df = df.copy()\n",
    "\n",
    "df['date1']=df['availability'].apply(lambda x: x[0]['date'])\n",
    "df['date2']=df['availability'].apply(lambda x: x[1]['date'])\n",
    "df['date3']=df['availability'].apply(lambda x: x[2]['date'])\n",
    "df['date4']=df['availability'].apply(lambda x: x[3]['date'])\n",
    "df['date5']=df['availability'].apply(lambda x: x[4]['date'])\n",
    "df['date6']=df['availability'].apply(lambda x: x[5]['date'])\n",
    "print(df['date1'], df['date2'], df['date3'], df['date4'], df['date5'], df['date6'])"
   ]
  },
  {
   "cell_type": "code",
   "execution_count": 48,
   "metadata": {},
   "outputs": [],
   "source": [
    "from datetime import datetime\n",
    "df['date1']= df['date1'].apply(lambda x: datetime.strptime(x, \"%d-%m-%Y\").date())\n",
    "df['date2']= df['date2'].apply(lambda x: datetime.strptime(x, \"%d-%m-%Y\").date())\n",
    "df['date3']= df['date3'].apply(lambda x: datetime.strptime(x, \"%d-%m-%Y\").date())\n",
    "df['date4']= df['date4'].apply(lambda x: datetime.strptime(x, \"%d-%m-%Y\").date())\n",
    "df['date5']= df['date5'].apply(lambda x: datetime.strptime(x, \"%d-%m-%Y\").date())\n",
    "df['date6']= df['date6'].apply(lambda x: datetime.strptime(x, \"%d-%m-%Y\").date())\n",
    "\n"
   ]
  },
  {
   "cell_type": "code",
   "execution_count": 68,
   "metadata": {},
   "outputs": [],
   "source": [
    "df['checkIncr']= df.apply( lambda x: 1 if (x['date1']<x['date2']<x['date3']<x['date4']<x['date5']<x['date6']) else 0, axis=1)"
   ]
  },
  {
   "cell_type": "code",
   "execution_count": 69,
   "metadata": {},
   "outputs": [
    {
     "name": "stdout",
     "output_type": "stream",
     "text": [
      "checkIncr\n",
      "1    288287\n",
      "Name: count, dtype: int64\n"
     ]
    }
   ],
   "source": [
    "print(df['checkIncr'].value_counts())"
   ]
  },
  {
   "cell_type": "code",
   "execution_count": null,
   "metadata": {},
   "outputs": [],
   "source": []
  }
 ],
 "metadata": {
  "kernelspec": {
   "display_name": "Python 3 (ipykernel)",
   "language": "python",
   "name": "python3"
  },
  "language_info": {
   "codemirror_mode": {
    "name": "ipython",
    "version": 3
   },
   "file_extension": ".py",
   "mimetype": "text/x-python",
   "name": "python",
   "nbconvert_exporter": "python",
   "pygments_lexer": "ipython3",
   "version": "3.12.3"
  }
 },
 "nbformat": 4,
 "nbformat_minor": 2
}
